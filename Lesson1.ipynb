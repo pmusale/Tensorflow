{
  "nbformat": 4,
  "nbformat_minor": 0,
  "metadata": {
    "colab": {
      "name": "Untitled0.ipynb",
      "version": "0.3.2",
      "provenance": [],
      "include_colab_link": true
    },
    "kernelspec": {
      "name": "python3",
      "display_name": "Python 3"
    }
  },
  "cells": [
    {
      "cell_type": "markdown",
      "metadata": {
        "id": "view-in-github",
        "colab_type": "text"
      },
      "source": [
        "<a href=\"https://colab.research.google.com/github/pmusale/Tensorflow/blob/master/Lesson1.ipynb\" target=\"_parent\"><img src=\"https://colab.research.google.com/assets/colab-badge.svg\" alt=\"Open In Colab\"/></a>"
      ]
    },
    {
      "metadata": {
        "id": "m-Tyvto8cKWZ",
        "colab_type": "code",
        "colab": {
          "base_uri": "https://localhost:8080/",
          "height": 34
        },
        "outputId": "6dbc08f2-890f-4c5c-dd44-d87ab14e4232"
      },
      "cell_type": "code",
      "source": [
        "print(\"hello world\")"
      ],
      "execution_count": 2,
      "outputs": [
        {
          "output_type": "stream",
          "text": [
            "hello world\n"
          ],
          "name": "stdout"
        }
      ]
    },
    {
      "metadata": {
        "id": "b5X12Ujge0Rq",
        "colab_type": "code",
        "colab": {
          "base_uri": "https://localhost:8080/",
          "height": 221
        },
        "outputId": "9952dc92-40a7-4a23-d243-0f12a158d7e5"
      },
      "cell_type": "code",
      "source": [
        "def HelloWorldXY(x,y):\n",
        "  if(x < 10):\n",
        "    print(\"Hello world, X was less than 10\")\n",
        "  elif(x < 20):\n",
        "    print(\"Hello world, x was >= 10 but < 20\")\n",
        "  else:\n",
        "    print(\"Hello world, x was >= 20\")\n",
        "  return x + y\n",
        "\n",
        "for i in range(8,25,5):\n",
        "  print(\"----now running with i : {}\".format(i))\n",
        "  r = HelloWorldXY(i,i)\n",
        "  print(\"results from hello world:{}\".format(i , r))\n",
        "  "
      ],
      "execution_count": 3,
      "outputs": [
        {
          "output_type": "stream",
          "text": [
            "----now running with i : 8\n",
            "Hello world, X was less than 10\n",
            "results from hello world:8\n",
            "----now running with i : 13\n",
            "Hello world, x was >= 10 but < 20\n",
            "results from hello world:13\n",
            "----now running with i : 18\n",
            "Hello world, x was >= 10 but < 20\n",
            "results from hello world:18\n",
            "----now running with i : 23\n",
            "Hello world, x was >= 20\n",
            "results from hello world:23\n"
          ],
          "name": "stdout"
        }
      ]
    },
    {
      "metadata": {
        "id": "0a2atbSajvf4",
        "colab_type": "code",
        "colab": {
          "base_uri": "https://localhost:8080/",
          "height": 51
        },
        "outputId": "161a6472-4e56-4ec1-86cf-53a16fb8598a"
      },
      "cell_type": "code",
      "source": [
        "print( HelloWorldXY(1,2))"
      ],
      "execution_count": 4,
      "outputs": [
        {
          "output_type": "stream",
          "text": [
            "Hello world, X was less than 10\n",
            "3\n"
          ],
          "name": "stdout"
        }
      ]
    },
    {
      "metadata": {
        "id": "NfJVnwnAj8AK",
        "colab_type": "code",
        "colab": {
          "base_uri": "https://localhost:8080/",
          "height": 68
        },
        "outputId": "2806e1a9-5e04-4627-b8a1-aee586ae6004"
      },
      "cell_type": "code",
      "source": [
        "print(\"Iterate\")\n",
        "for i in range(2):\n",
        "   print(i)"
      ],
      "execution_count": 5,
      "outputs": [
        {
          "output_type": "stream",
          "text": [
            "Iterate\n",
            "0\n",
            "1\n"
          ],
          "name": "stdout"
        }
      ]
    },
    {
      "metadata": {
        "id": "AefPbYm7kdY7",
        "colab_type": "code",
        "colab": {
          "base_uri": "https://localhost:8080/",
          "height": 51
        },
        "outputId": "cdc997ed-bf5f-486b-d502-b084e211aa02"
      },
      "cell_type": "code",
      "source": [
        "for i in [0,1]:\n",
        "  print(i)"
      ],
      "execution_count": 6,
      "outputs": [
        {
          "output_type": "stream",
          "text": [
            "0\n",
            "1\n"
          ],
          "name": "stdout"
        }
      ]
    },
    {
      "metadata": {
        "id": "aP0OcUOlkmya",
        "colab_type": "code",
        "colab": {
          "base_uri": "https://localhost:8080/",
          "height": 68
        },
        "outputId": "98ae01ac-f101-4e11-ad30-434ce7987573"
      },
      "cell_type": "code",
      "source": [
        "print(\"while works\")\n",
        "i = 0\n",
        "while(i<2):\n",
        "  print(i)\n",
        "  i+=1"
      ],
      "execution_count": 7,
      "outputs": [
        {
          "output_type": "stream",
          "text": [
            "while works\n",
            "0\n",
            "1\n"
          ],
          "name": "stdout"
        }
      ]
    },
    {
      "metadata": {
        "id": "eYPGDYpBk4J3",
        "colab_type": "code",
        "colab": {
          "base_uri": "https://localhost:8080/",
          "height": 51
        },
        "outputId": "87f651b2-061f-4d2b-be83-6dc04ec138a9"
      },
      "cell_type": "code",
      "source": [
        "print(\"Break\")\n",
        "while True:\n",
        "  print(\"Entered while\")\n",
        "  break"
      ],
      "execution_count": 8,
      "outputs": [
        {
          "output_type": "stream",
          "text": [
            "Break\n",
            "Entered while\n"
          ],
          "name": "stdout"
        }
      ]
    }
  ]
}