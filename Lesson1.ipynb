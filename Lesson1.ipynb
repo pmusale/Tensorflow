{
  "nbformat": 4,
  "nbformat_minor": 0,
  "metadata": {
    "colab": {
      "name": "Untitled0.ipynb",
      "version": "0.3.2",
      "provenance": [],
      "include_colab_link": true
    },
    "kernelspec": {
      "name": "python3",
      "display_name": "Python 3"
    }
  },
  "cells": [
    {
      "cell_type": "markdown",
      "metadata": {
        "id": "view-in-github",
        "colab_type": "text"
      },
      "source": [
        "<a href=\"https://colab.research.google.com/github/pmusale/Tensorflow/blob/master/Lesson1.ipynb\" target=\"_parent\"><img src=\"https://colab.research.google.com/assets/colab-badge.svg\" alt=\"Open In Colab\"/></a>"
      ]
    },
    {
      "metadata": {
        "id": "m-Tyvto8cKWZ",
        "colab_type": "code",
        "outputId": "4b942378-5797-4a18-d73c-669a2993577c",
        "colab": {
          "base_uri": "https://localhost:8080/",
          "height": 34
        }
      },
      "cell_type": "code",
      "source": [
        "print(\"hello world\")"
      ],
      "execution_count": 1,
      "outputs": [
        {
          "output_type": "stream",
          "text": [
            "hello world\n"
          ],
          "name": "stdout"
        }
      ]
    },
    {
      "metadata": {
        "id": "b5X12Ujge0Rq",
        "colab_type": "code",
        "outputId": "6426ea4b-8a26-4489-94ca-9229a618e9f3",
        "colab": {
          "base_uri": "https://localhost:8080/",
          "height": 221
        }
      },
      "cell_type": "code",
      "source": [
        "def HelloWorldXY(x,y):\n",
        "  if(x < 10):\n",
        "    print(\"Hello world, X was less than 10\")\n",
        "  elif(x < 20):\n",
        "    print(\"Hello world, x was >= 10 but < 20\")\n",
        "  else:\n",
        "    print(\"Hello world, x was >= 20\")\n",
        "  return x + y\n",
        "\n",
        "for i in range(8,25,5):\n",
        "  print(\"----now running with i : {}\".format(i))\n",
        "  r = HelloWorldXY(i,i)\n",
        "  print(\"results from hello world:{}\".format(i , r))\n",
        "  "
      ],
      "execution_count": 2,
      "outputs": [
        {
          "output_type": "stream",
          "text": [
            "----now running with i : 8\n",
            "Hello world, X was less than 10\n",
            "results from hello world:8\n",
            "----now running with i : 13\n",
            "Hello world, x was >= 10 but < 20\n",
            "results from hello world:13\n",
            "----now running with i : 18\n",
            "Hello world, x was >= 10 but < 20\n",
            "results from hello world:18\n",
            "----now running with i : 23\n",
            "Hello world, x was >= 20\n",
            "results from hello world:23\n"
          ],
          "name": "stdout"
        }
      ]
    },
    {
      "metadata": {
        "id": "0a2atbSajvf4",
        "colab_type": "code",
        "outputId": "d4de189e-e94b-4ccc-a0c5-31d8fb0128ec",
        "colab": {
          "base_uri": "https://localhost:8080/",
          "height": 51
        }
      },
      "cell_type": "code",
      "source": [
        "print( HelloWorldXY(1,2))"
      ],
      "execution_count": 3,
      "outputs": [
        {
          "output_type": "stream",
          "text": [
            "Hello world, X was less than 10\n",
            "3\n"
          ],
          "name": "stdout"
        }
      ]
    },
    {
      "metadata": {
        "id": "NfJVnwnAj8AK",
        "colab_type": "code",
        "outputId": "ec83671d-cf05-429d-e519-ea5f157c7a6b",
        "colab": {
          "base_uri": "https://localhost:8080/",
          "height": 68
        }
      },
      "cell_type": "code",
      "source": [
        "print(\"Iterate\")\n",
        "for i in range(2):\n",
        "   print(i)"
      ],
      "execution_count": 4,
      "outputs": [
        {
          "output_type": "stream",
          "text": [
            "Iterate\n",
            "0\n",
            "1\n"
          ],
          "name": "stdout"
        }
      ]
    },
    {
      "metadata": {
        "id": "AefPbYm7kdY7",
        "colab_type": "code",
        "outputId": "d40620dc-d6e5-4870-97f2-1055f01fbc62",
        "colab": {
          "base_uri": "https://localhost:8080/",
          "height": 51
        }
      },
      "cell_type": "code",
      "source": [
        "for i in [0,1]:\n",
        "  print(i)"
      ],
      "execution_count": 5,
      "outputs": [
        {
          "output_type": "stream",
          "text": [
            "0\n",
            "1\n"
          ],
          "name": "stdout"
        }
      ]
    },
    {
      "metadata": {
        "id": "aP0OcUOlkmya",
        "colab_type": "code",
        "outputId": "40de2046-c8d3-4cf8-b29f-2bfe31373316",
        "colab": {
          "base_uri": "https://localhost:8080/",
          "height": 68
        }
      },
      "cell_type": "code",
      "source": [
        "print(\"while works\")\n",
        "i = 0\n",
        "while(i<2):\n",
        "  print(i)\n",
        "  i+=1"
      ],
      "execution_count": 6,
      "outputs": [
        {
          "output_type": "stream",
          "text": [
            "while works\n",
            "0\n",
            "1\n"
          ],
          "name": "stdout"
        }
      ]
    },
    {
      "metadata": {
        "id": "eYPGDYpBk4J3",
        "colab_type": "code",
        "outputId": "ef60373c-1a8f-40fb-f9e4-ea60a03bc763",
        "colab": {
          "base_uri": "https://localhost:8080/",
          "height": 51
        }
      },
      "cell_type": "code",
      "source": [
        "print(\"Break\")\n",
        "while True:\n",
        "  print(\"Entered while\")\n",
        "  break"
      ],
      "execution_count": 7,
      "outputs": [
        {
          "output_type": "stream",
          "text": [
            "Break\n",
            "Entered while\n"
          ],
          "name": "stdout"
        }
      ]
    },
    {
      "metadata": {
        "id": "Fr6_FQoueNYy",
        "colab_type": "code",
        "colab": {
          "base_uri": "https://localhost:8080/",
          "height": 238
        },
        "outputId": "04aac635-725c-4043-b7b9-1a0a9a8d77e2"
      },
      "cell_type": "code",
      "source": [
        "import numpy as np\n",
        "\n",
        "a=np.array([\"Hello\",\"World\"])\n",
        "a=np.append(a,\"!\")\n",
        "print(\"The array is - {}\".format(a))\n",
        "\n",
        "for i in a:\n",
        "  print(i)\n",
        "\n",
        "  for i, e in enumerate(a):\n",
        "   print(\"This is fun  - index:{} , element:{} \".format(i,e))"
      ],
      "execution_count": 13,
      "outputs": [
        {
          "output_type": "stream",
          "text": [
            "The array is - ['Hello' 'World' '!']\n",
            "Hello\n",
            "This is fun  - index:0 , element:Hello \n",
            "This is fun  - index:1 , element:World \n",
            "This is fun  - index:2 , element:! \n",
            "World\n",
            "This is fun  - index:0 , element:Hello \n",
            "This is fun  - index:1 , element:World \n",
            "This is fun  - index:2 , element:! \n",
            "!\n",
            "This is fun  - index:0 , element:Hello \n",
            "This is fun  - index:1 , element:World \n",
            "This is fun  - index:2 , element:! \n"
          ],
          "name": "stdout"
        }
      ]
    },
    {
      "metadata": {
        "id": "9a7FDzVDgnsB",
        "colab_type": "code",
        "colab": {
          "base_uri": "https://localhost:8080/",
          "height": 85
        },
        "outputId": "0bc947a9-9e7b-47be-83b6-78563c701d19"
      },
      "cell_type": "code",
      "source": [
        "b = np.array([0,1,2,3,4])\n",
        "print(\"Max:{} \".format(np.max(b)))\n",
        "print(\"average:{}\".format(np.average(b)))\n",
        "print(\"Max index :{}\".format(np.argmax(b)))\n",
        "print(\"shape a:{}\".format(a.shape))"
      ],
      "execution_count": 15,
      "outputs": [
        {
          "output_type": "stream",
          "text": [
            "Max:4 \n",
            "average:2.0\n",
            "Max index :4\n",
            "shape a:(3,)\n"
          ],
          "name": "stdout"
        }
      ]
    },
    {
      "metadata": {
        "id": "tVRy9itih8qe",
        "colab_type": "code",
        "colab": {
          "base_uri": "https://localhost:8080/",
          "height": 68
        },
        "outputId": "950014d5-6cf7-48a7-b4d4-54c3527cad3f"
      },
      "cell_type": "code",
      "source": [
        "!pwd\n",
        "!cd /\n",
        "!ls -l"
      ],
      "execution_count": 16,
      "outputs": [
        {
          "output_type": "stream",
          "text": [
            "/content\n",
            "total 4\n",
            "drwxr-xr-x 1 root root 4096 Mar  8 17:26 sample_data\n"
          ],
          "name": "stdout"
        }
      ]
    }
  ]
}